{
 "cells": [
  {
   "cell_type": "code",
   "execution_count": null,
   "metadata": {},
   "outputs": [],
   "source": [
    "## Base LLM"
   ]
  },
  {
   "cell_type": "markdown",
   "metadata": {},
   "source": [
    "## Base LLM"
   ]
  },
  {
   "cell_type": "code",
   "execution_count": 2,
   "metadata": {},
   "outputs": [],
   "source": [
    "from langchain_ollama import ChatOllama\n",
    "from IPython.display import Markdown, display\n",
    "\n",
    "base_url = \"http://localhost:11434\"\n",
    "model = \"llama3.2:latest\"\n",
    "\n",
    "llm = ChatOllama(\n",
    "    base_url = base_url,\n",
    "    model = model,\n",
    "    temperature = 0.8,\n",
    "    num_predict = 256\n",
    ")\n"
   ]
  },
  {
   "cell_type": "code",
   "execution_count": 9,
   "metadata": {},
   "outputs": [
    {
     "data": {
      "text/markdown": [
       "Here are some examples of using promises in Node.js:\n",
       "\n",
       "**Example 1: Simple Promise**\n",
       "\n",
       "```javascript\n",
       "const promise = new Promise((resolve, reject) => {\n",
       "  // simulate an asynchronous operation\n",
       "  setTimeout(() => {\n",
       "    resolve('Hello World!');\n",
       "  }, 2000);\n",
       "});\n",
       "\n",
       "promise.then((message) => {\n",
       "  console.log(message); // prints 'Hello World!' after 2 seconds\n",
       "}).catch((error) => {\n",
       "  console.error(error); // never called in this example\n",
       "});\n",
       "```\n",
       "\n",
       "**Example 2: Multiple Promises**\n",
       "\n",
       "```javascript\n",
       "const promise1 = new Promise((resolve, reject) => {\n",
       "  setTimeout(() => {\n",
       "    resolve('Promise 1 resolved');\n",
       "  }, 1000);\n",
       "});\n",
       "\n",
       "const promise2 = new Promise((resolve, reject) => {\n",
       "  setTimeout(() => {\n",
       "    resolve('Promise 2 resolved');\n",
       "  }, 2000);\n",
       "});\n",
       "\n",
       "Promise.all([promise1, promise2]).then(([result1, result2]) => {\n",
       "  console.log(result1); // prints 'Promise 1 resolved' after 1 second\n",
       "  console.log(result2); // prints 'Promise 2 resolved' after 2 seconds\n",
       "}).catch((error) => {\n",
       "  console.error(error);\n",
       "});\n",
       "```\n",
       "\n",
       "**Example"
      ],
      "text/plain": [
       "<IPython.core.display.Markdown object>"
      ]
     },
     "metadata": {},
     "output_type": "display_data"
    }
   ],
   "source": [
    "response = llm.invoke('example on node js promise').content\n",
    "display(Markdown(response))\n"
   ]
  },
  {
   "cell_type": "code",
   "execution_count": 7,
   "metadata": {},
   "outputs": [
    {
     "data": {
      "text/markdown": [
       "Here is a simple Node.js program that adds two numbers:\n",
       "\n",
       "```javascript\n",
       "// Define the function to add two numbers\n",
       "function addNumbers(a, b) {\n",
       "    return a + b;\n",
       "}\n",
       "\n",
       "// Test the function with some values\n",
       "const num1 = 10;\n",
       "const num2 = 20;\n",
       "\n",
       "const result = addNumbers(num1, num2);\n",
       "\n",
       "console.log(`The sum of ${num1} and ${num2} is: ${result}`);\n",
       "```\n",
       "\n",
       "To run this program, you will need to have Node.js installed on your computer. Here are the steps:\n",
       "\n",
       "1. Open a command prompt or terminal.\n",
       "2. Navigate to the directory where you want to save your file.\n",
       "3. Type `node filename.js` and press Enter, replacing \"filename.js\" with the name of your file.\n",
       "\n",
       "When you run this program, it will print the sum of num1 and num2 to the console.\n",
       "\n",
       "### Using Promises\n",
       "\n",
       "If you prefer a more synchronous approach, you can use promises instead of callbacks:\n",
       "\n",
       "```javascript\n",
       "function addNumbers(a, b) {\n",
       "    return new Promise((resolve, reject) => {\n",
       "        if (typeof a !== 'number' || typeof b !== 'number') {\n",
       "            reject(new Error('Both inputs must be numbers'));\n",
       "       "
      ],
      "text/plain": [
       "<IPython.core.display.Markdown object>"
      ]
     },
     "metadata": {},
     "output_type": "display_data"
    }
   ],
   "source": [
    "resposnse = ''\n",
    "for chunk in llm.stream('Add two numbers in node js'): \n",
    "    # print(chunk.content)\n",
    "    resposnse += chunk.content\n",
    "display(Markdown(resposnse))"
   ]
  }
 ],
 "metadata": {
  "kernelspec": {
   "display_name": "training",
   "language": "python",
   "name": "python3"
  },
  "language_info": {
   "codemirror_mode": {
    "name": "ipython",
    "version": 3
   },
   "file_extension": ".py",
   "mimetype": "text/x-python",
   "name": "python",
   "nbconvert_exporter": "python",
   "pygments_lexer": "ipython3",
   "version": "3.11.11"
  }
 },
 "nbformat": 4,
 "nbformat_minor": 2
}
