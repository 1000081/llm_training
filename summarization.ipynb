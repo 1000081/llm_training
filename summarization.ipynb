{
 "cells": [
  {
   "cell_type": "code",
   "execution_count": 1,
   "id": "c1806187-6e68-478a-9bec-fa191dc7b08b",
   "metadata": {},
   "outputs": [],
   "source": [
    "import json\n",
    "import ollama\n",
    "import torch"
   ]
  },
  {
   "cell_type": "code",
   "execution_count": 2,
   "id": "41d9a89d-f1f9-431b-84af-4f0ad24082d6",
   "metadata": {},
   "outputs": [
    {
     "data": {
      "text/plain": [
       "False"
      ]
     },
     "execution_count": 2,
     "metadata": {},
     "output_type": "execute_result"
    }
   ],
   "source": [
    "torch.cuda.is_available()"
   ]
  },
  {
   "cell_type": "code",
   "execution_count": 6,
   "id": "a7e5ae2c-727f-498b-a4a1-1b2c308800a6",
   "metadata": {},
   "outputs": [
    {
     "name": "stdout",
     "output_type": "stream",
     "text": [
      "I am unable to access external sources or read the context of the text you have provided, so I am unable to generate the summary you requested.\n"
     ]
    }
   ],
   "source": [
    "response = ollama.chat(model='gemma:2b', messages=[\n",
    "    {\n",
    "    'role': 'system',\n",
    "    'content': 'Your goal is to summarize the text given to you in roughly 300 words. It is from a meeting between one or more people. Only output the summary without any additional text. Focus on providing a summary in freeform text with what people said and the action items coming out of it.'\n",
    "    },\n",
    "  {\n",
    "    'role': 'user',\n",
    "    'content': \"speking\",\n",
    "  },\n",
    "])\n",
    "\n",
    "print(response['message']['content'])"
   ]
  },
  {
   "cell_type": "code",
   "execution_count": 11,
   "id": "1cad155c-e3da-42c7-a73d-36fe67e545a4",
   "metadata": {},
   "outputs": [],
   "source": [
    "import requests"
   ]
  },
  {
   "cell_type": "code",
   "execution_count": 14,
   "id": "4f6a8d18-5d81-4f7b-969a-5cde48a0c6a8",
   "metadata": {},
   "outputs": [],
   "source": [
    "def meeting_summary_rest():\n",
    "     conversation_string = 'speking'\n",
    "\n",
    "     prompt = \"\"\"Your goal is to summarize the text that is given to you \n",
    "     in roughly 300 words. It is from a meeting between one or more people. \n",
    "     Only output the summary without any additional text. \n",
    "     Focus on providing a summary in freeform text with a summary of what \n",
    "     people said and the action items coming out of it.\"\"\"\n",
    "\n",
    "     OLLAMA_ENDPOINT = \"http://localhost:11434/api/generate\"\n",
    "\n",
    "     OLLAMA_PROMPT = f\"{prompt}: {conversation_string}\"\n",
    "     OLLAMA_DATA = {\n",
    "          \"model\": \"llama3.2:latest\",\n",
    "          \"prompt\": OLLAMA_PROMPT,\n",
    "          \"stream\": False,\n",
    "          \"keep_alive\": \"1m\",\n",
    "     }\n",
    "\n",
    "     response = requests.post(OLLAMA_ENDPOINT, json=OLLAMA_DATA)\n",
    "     return response.json()[\"response\"]\n"
   ]
  },
  {
   "cell_type": "code",
   "execution_count": 12,
   "id": "6d472fe3-9eec-4bb3-9ad4-7acc9ca96ccc",
   "metadata": {},
   "outputs": [
    {
     "name": "stdout",
     "output_type": "stream",
     "text": [
      "I am unable to access external sources or provide summaries of conversations, including the one you have described.\n"
     ]
    }
   ],
   "source": [
    "print(meeting_summary_rest())"
   ]
  },
  {
   "cell_type": "code",
   "execution_count": 1,
   "id": "1c8cfcef-f7e1-467e-b0f2-28b56c56301e",
   "metadata": {},
   "outputs": [
    {
     "name": "stdout",
     "output_type": "stream",
     "text": [
      "https://api.smith.langchain.com\n"
     ]
    }
   ],
   "source": [
    "import os\n",
    "api = os.environ['LANGSMITH_ENDPOINT']\n",
    "print(api)"
   ]
  }
 ],
 "metadata": {
  "kernelspec": {
   "display_name": "training",
   "language": "python",
   "name": "python3"
  },
  "language_info": {
   "codemirror_mode": {
    "name": "ipython",
    "version": 3
   },
   "file_extension": ".py",
   "mimetype": "text/x-python",
   "name": "python",
   "nbconvert_exporter": "python",
   "pygments_lexer": "ipython3",
   "version": "3.11.11"
  }
 },
 "nbformat": 4,
 "nbformat_minor": 5
}
