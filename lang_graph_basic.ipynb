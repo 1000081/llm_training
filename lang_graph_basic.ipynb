{
 "cells": [
  {
   "cell_type": "code",
   "execution_count": 3,
   "metadata": {},
   "outputs": [],
   "source": [
    "from typing import Annotated, TypedDict\n",
    "from langgraph.graph import StateGraph, START, END\n",
    "from langgraph.graph.message import add_messages\n",
    "from langchain_ollama import ChatOllama\n",
    "from IPython.display import Markdown, display, Image"
   ]
  },
  {
   "cell_type": "code",
   "execution_count": 4,
   "metadata": {},
   "outputs": [
    {
     "data": {
      "text/plain": [
       "'Hello! How can I assist you today?'"
      ]
     },
     "execution_count": 4,
     "metadata": {},
     "output_type": "execute_result"
    }
   ],
   "source": [
    "llm = ChatOllama(model=\"llama3.2:latest\", base_url=\"http://localhost:11434\")\n",
    "llm.invoke('Hi').content"
   ]
  },
  {
   "cell_type": "code",
   "execution_count": 6,
   "metadata": {},
   "outputs": [],
   "source": [
    "class State(TypedDict):\n",
    "    messages: Annotated[list[str], add_messages]\n",
    "\n",
    "\n",
    "def chat_bot(state: State) -> str:\n",
    "    response= llm.invoke(state[\"messages\"])\n",
    "    return {\"messages\": [response]   }\n",
    "\n",
    "graph_builder = StateGraph(State)\n",
    "\n",
    "graph_builder.add_node(\"chat_bot\", chat_bot)\n",
    "\n",
    "graph_builder.add_edge(START, \"chat_bot\")\n",
    "\n",
    "graph_builder.add_edge(\"chat_bot\", END)\n",
    "\n",
    "graph = graph_builder.compile()"
   ]
  },
  {
   "cell_type": "code",
   "execution_count": 7,
   "metadata": {},
   "outputs": [
    {
     "data": {
      "image/png": "[encoded data removed]",
      "text/plain": [
       "<IPython.core.display.Image object>"
      ]
     },
     "metadata": {},
     "output_type": "display_data"
    }
   ],
   "source": [
    "display(Image(graph.get_graph().draw_mermaid_png()))"
   ]
  },
  {
   "cell_type": "code",
   "execution_count": 8,
   "metadata": {},
   "outputs": [
    {
     "data": {
      "text/plain": [
       "{'messages': [HumanMessage(content='Hi', additional_kwargs={}, response_metadata={}, id='9504864e-d14e-4b89-8b51-379f0cfb6daa'),\n",
       "  HumanMessage(content='Tell me 3 fruits', additional_kwargs={}, response_metadata={}, id='5289e185-f2eb-4448-b977-bf22843b1ade'),\n",
       "  AIMessage(content='Here are three fruits:\\n\\n1. Apple\\n2. Banana\\n3. Mango', additional_kwargs={}, response_metadata={'model': 'llama3.2:latest', 'created_at': '2025-02-18T06:27:15.241592Z', 'done': True, 'done_reason': 'stop', 'total_duration': 382087500, 'load_duration': 29772583, 'prompt_eval_count': 32, 'prompt_eval_duration': 134000000, 'eval_count': 17, 'eval_duration': 217000000, 'message': Message(role='assistant', content='', images=None, tool_calls=None)}, id='run-9805c02d-9c14-475d-a66d-2cfaa61e22eb-0', usage_metadata={'input_tokens': 32, 'output_tokens': 17, 'total_tokens': 49})]}"
      ]
     },
     "execution_count": 8,
     "metadata": {},
     "output_type": "execute_result"
    }
   ],
   "source": [
    "graph.invoke({\"messages\": [\"Hi\", \"Tell me 3 fruits\"]})"
   ]
  },
  {
   "cell_type": "code",
   "execution_count": 11,
   "metadata": {},
   "outputs": [
    {
     "data": {
      "text/markdown": [
       "Here are 7 of the most famous Wonders of the World:\n",
       "\n",
       "1. **The Great Pyramid of Giza**: Located in modern-day Egypt, this is the oldest and only remaining ancient wonder still standing.\n",
       "2. **The Hanging Gardens of Babylon**: Located in present-day Iraq, these gardens were said to be a marvel of engineering and beauty, but their exact location and existence are still debated among historians.\n",
       "3. **The Statue of Zeus at Olympia**: This massive statue of the Greek god Zeus was built by Phidias and located in ancient Greece. It was considered one of the greatest artistic achievements of the ancient world.\n",
       "4. **The Temple of Artemis at Ephesus**: Located in present-day Turkey, this massive temple was dedicated to the Greek goddess Artemis and was known for its impressive size and beauty.\n",
       "5. **The Mausoleum at Halicarnassus**: Also located in present-day Turkey, this grand tomb was built for King Mausolus and was famous for its stunning architecture and sculptures.\n",
       "6. **The Colossus of Rhodes**: This massive bronze statue of the Greek god Helios was built in ancient Greece and became a symbol of the city of Rhodes.\n",
       "7. **The Lighthouse of Alexandria**: Located on the island of Pharos in Egypt, this towering lighthouse was one of the tallest structures in the ancient world and played a crucial role in navigation.\n",
       "\n",
       "Note: There are actually two lists of Seven Wonders of the World - the original list from ancient times and a new list compiled in 2007."
      ],
      "text/plain": [
       "<IPython.core.display.Markdown object>"
      ]
     },
     "metadata": {},
     "output_type": "display_data"
    },
    {
     "data": {
      "text/markdown": [
       "Here are the 7 New Wonders of the World, as chosen by a worldwide poll in 2007:\n",
       "\n",
       "1. **The Great Wall of China**: A series of fortifications built across several Chinese dynasties to protect the country from invasions.\n",
       "2. **The Taj Mahal**: A white marble mausoleum in India built by the Mughal emperor Shah Jahan as a tribute to his wife Mumtaz Mahal.\n",
       "3. **Machu Picchu**: An Inca citadel in Peru built in the 15th century and abandoned before the arrival of the Spanish conquistadors.\n",
       "4. **Chichén Itzá**: A pre-Columbian Mayan city on the Yucatán Peninsula in Mexico, built by the Maya civilization around 600 AD.\n",
       "5. **The Roman Colosseum**: An amphitheater in the center of Rome, Italy, built in the 1st century AD and used for gladiatorial contests and other public events.\n",
       "6. **The Christ the Redeemer statue**: A massive Art Deco statue of Jesus Christ in Rio de Janeiro, Brazil, built between 1922 and 1931.\n",
       "7. **The Pyramids of Giza**: The oldest and only remaining ancient wonder, a complex of three pyramids on the outskirts of modern-day Cairo, Egypt.\n",
       "\n",
       "In addition to these 7 New Wonders, there are also 21 New Wonders of Nature, as chosen by the same poll in 2007:\n",
       "\n",
       "1. **The Amazon Rainforest**\n",
       "2. **The Great Barrier Reef**\n",
       "3. **Iguazu Falls**\n",
       "4. **Ha Long Bay**\n",
       "5. **Mount Everest**\n",
       "6. **Parícutin volcano**\n",
       "7. **Table Mountain**\n",
       "8. **The Grand Canyon**\n",
       "9. **The Great Rift Valley**\n",
       "10. **Mount Kilimanjaro**\n",
       "11. **The Victoria Falls**\n",
       "12. **The Aurora borealis (Northern Lights)**\n",
       "13. **The Monument Valley**\n",
       "14. **The Parícutin volcano**\n",
       "15. **The Trolltunga rock formation**\n",
       "16. **The Zhangjiajie National Forest Park**\n",
       "17. **The Galapagos Islands**\n",
       "18. **The Plitvice Lakes National Park**\n",
       "19. **The Great Blue Hole**\n",
       "20. **The Mount Etna**\n",
       "21. **The Tsingy de Bemaraha National Park**\n",
       "\n",
       "And, in 2011, the New7Wonders Foundation chose 7 Wonders of the World to be \"inscribed\" into the list of new wonders:\n",
       "\n",
       "1. **The Great Wall of China**\n",
       "2. **The Taj Mahal**\n",
       "3. **Machu Picchu**\n",
       "4. **Chichén Itzá**\n",
       "5. **The Roman Colosseum**\n",
       "6. **Christ the Redeemer statue**\n",
       "7. **The Pyramids of Giza**\n",
       "\n",
       "These 21 New Wonders are considered to be the most amazing and awe-inspiring natural and man-made structures in the world."
      ],
      "text/plain": [
       "<IPython.core.display.Markdown object>"
      ]
     },
     "metadata": {},
     "output_type": "display_data"
    },
    {
     "data": {
      "text/markdown": [
       "It seems like you forgot to ask a question. Please go ahead and ask me anything, and I'll do my best to help!"
      ],
      "text/plain": [
       "<IPython.core.display.Markdown object>"
      ]
     },
     "metadata": {},
     "output_type": "display_data"
    },
    {
     "data": {
      "text/markdown": [
       "It seems like you didn't ask a question. What's on your mind? Would you like to know something or ask for help with a problem? I'm here to assist you!"
      ],
      "text/plain": [
       "<IPython.core.display.Markdown object>"
      ]
     },
     "metadata": {},
     "output_type": "display_data"
    },
    {
     "data": {
      "text/markdown": [
       "It looks like you didn't provide a question or topic for me to assist with. Can you please provide some context or ask a question? I'll do my best to help!"
      ],
      "text/plain": [
       "<IPython.core.display.Markdown object>"
      ]
     },
     "metadata": {},
     "output_type": "display_data"
    },
    {
     "data": {
      "text/markdown": [
       "I'm happy to chat with you. Is there something on your mind that you'd like to talk about, or are you looking for recommendations on a particular topic? I can provide information and assistance on a wide range of subjects, including but not limited to:\n",
       "\n",
       "* Science and technology\n",
       "* Health and wellness\n",
       "* Personal finance and career development\n",
       "* Travel and culture\n",
       "* Food and recipes\n",
       "* And more!\n",
       "\n",
       "Let me know how I can help you today!"
      ],
      "text/plain": [
       "<IPython.core.display.Markdown object>"
      ]
     },
     "metadata": {},
     "output_type": "display_data"
    },
    {
     "data": {
      "text/markdown": [
       "It seems like you didn't provide a question or topic for me to assist with. If you have any questions, need help with a task, or just want to chat, feel free to ask and I'll do my best to assist you! What's on your mind?"
      ],
      "text/plain": [
       "<IPython.core.display.Markdown object>"
      ]
     },
     "metadata": {},
     "output_type": "display_data"
    }
   ],
   "source": [
    "while True:\n",
    "    user_input = input(\"You: \")\n",
    "    if user_input == \"exit\":\n",
    "        break\n",
    "    result = graph.invoke({\"messages\": [user_input]})\n",
    "    display(Markdown(result[\"messages\"][-1].content))"
   ]
  }
 ],
 "metadata": {
  "kernelspec": {
   "display_name": "training",
   "language": "python",
   "name": "python3"
  },
  "language_info": {
   "codemirror_mode": {
    "name": "ipython",
    "version": 3
   },
   "file_extension": ".py",
   "mimetype": "text/x-python",
   "name": "python",
   "nbconvert_exporter": "python",
   "pygments_lexer": "ipython3",
   "version": "3.11.11"
  }
 },
 "nbformat": 4,
 "nbformat_minor": 2
}
